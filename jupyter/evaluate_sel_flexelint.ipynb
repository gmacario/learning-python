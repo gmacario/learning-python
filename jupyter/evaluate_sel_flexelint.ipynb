{
 "cells": [
  {
   "cell_type": "markdown",
   "metadata": {},
   "source": [
    "# Evaluating FlexeLint MISRA rules with linux 4.4.50-min"
   ]
  },
  {
   "cell_type": "code",
   "execution_count": 7,
   "metadata": {},
   "outputs": [],
   "source": [
    "# Import all needed libraries\n",
    "import json\n",
    "import calendar\n",
    "import random\n",
    "import os\n",
    "import sys\n",
    "from datetime import date, timedelta\n",
    "\n",
    "# import faker\n",
    "# import numpy as np\n",
    "# import pandas as pd\n",
    "# from pandas import DataFrame, read_csv\n",
    "# from delorean import parse\n",
    "# import matplotlib\n",
    "\n",
    "# Enable inline plotting\n",
    "# %matplotlib inline"
   ]
  },
  {
   "cell_type": "code",
   "execution_count": 8,
   "metadata": {},
   "outputs": [
    {
     "name": "stdout",
     "output_type": "stream",
     "text": [
      "Python version 3.6.3 (v3.6.3:2c5fed8, Oct  3 2017, 18:11:49) [MSC v.1900 64 bit (AMD64)]\n"
     ]
    }
   ],
   "source": [
    "print('Python version ' + sys.version)\n",
    "# print('Pandas version ' + pd.__version__)\n",
    "# print('Matplotlib version ' + matplotlib.__version__)"
   ]
  }
 ],
 "metadata": {
  "kernelspec": {
   "display_name": "Python 3",
   "language": "python",
   "name": "python3"
  },
  "language_info": {
   "codemirror_mode": {
    "name": "ipython",
    "version": 3
   },
   "file_extension": ".py",
   "mimetype": "text/x-python",
   "name": "python",
   "nbconvert_exporter": "python",
   "pygments_lexer": "ipython3",
   "version": "3.6.3"
  }
 },
 "nbformat": 4,
 "nbformat_minor": 2
}

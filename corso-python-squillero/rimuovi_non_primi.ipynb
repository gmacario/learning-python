{
 "cells": [
  {
   "cell_type": "code",
   "execution_count": 1,
   "metadata": {},
   "outputs": [],
   "source": [
    "# def mcd(a: int, b: int):\n",
    "#    \"\"\"Calcola il Massimo Comun Denominatore tra due\"\"\"\n",
    "#    while b:\n",
    "#        a, b = b, a % b\n",
    "#    return a\n",
    "\n",
    "def is_prime(n: int):\n",
    "    \"\"\"Ritorna True se il numero è primo\"\"\"\n",
    "    for k in range(2, n // 2, 2):\n",
    "        if n % k == 0:\n",
    "            return False\n",
    "    return True\n",
    "\n",
    "def rimuovi_non_primi(lista_numeri):\n",
    "    \"\"\"Rimuove da lista_numeri tutti i numeri non primi\"\"\"\n",
    "    new_lista = []\n",
    "    for k in range(len(lista_numeri)):\n",
    "        num = lista_numeri[k]\n",
    "        if is_prime(num):\n",
    "            new_lista.append(num)\n",
    "    # lista_numeri[:] = new_lista\n",
    "    return new_lista"
   ]
  },
  {
   "cell_type": "code",
   "execution_count": 2,
   "metadata": {},
   "outputs": [
    {
     "data": {
      "text/plain": [
       "True"
      ]
     },
     "execution_count": 2,
     "metadata": {},
     "output_type": "execute_result"
    }
   ],
   "source": [
    "is_prime(7)"
   ]
  },
  {
   "cell_type": "code",
   "execution_count": 3,
   "metadata": {},
   "outputs": [
    {
     "data": {
      "text/plain": [
       "False"
      ]
     },
     "execution_count": 3,
     "metadata": {},
     "output_type": "execute_result"
    }
   ],
   "source": [
    "is_prime(52)"
   ]
  },
  {
   "cell_type": "code",
   "execution_count": 4,
   "metadata": {},
   "outputs": [
    {
     "data": {
      "text/plain": [
       "[1, 3, 7]"
      ]
     },
     "execution_count": 4,
     "metadata": {},
     "output_type": "execute_result"
    }
   ],
   "source": [
    "rimuovi_non_primi((1, 3, 24, 7, 42))"
   ]
  }
 ],
 "metadata": {
  "kernelspec": {
   "display_name": "Python 3",
   "language": "python",
   "name": "python3"
  },
  "language_info": {
   "codemirror_mode": {
    "name": "ipython",
    "version": 3
   },
   "file_extension": ".py",
   "mimetype": "text/x-python",
   "name": "python",
   "nbconvert_exporter": "python",
   "pygments_lexer": "ipython3",
   "version": "3.6.4"
  }
 },
 "nbformat": 4,
 "nbformat_minor": 2
}

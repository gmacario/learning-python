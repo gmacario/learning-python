{
 "cells": [
  {
   "cell_type": "markdown",
   "metadata": {},
   "source": [
    "# Esercizio\n",
    "\n",
    "Scrivere la classe Primes()\n",
    "\n",
    "```\n",
    "x = Primes()\n",
    "```\n",
    "\n",
    "x(23) -> 23-esimo numero primo\n",
    "\n",
    "```\n",
    "for x in x:\n",
    "  stampa i numeri primi attualmente memorizzati in x\n",
    "\n",
    "len(x) -> quanti sono i numeri primi memorizzati\n",
    "```"
   ]
  },
  {
   "cell_type": "code",
   "execution_count": 11,
   "metadata": {},
   "outputs": [],
   "source": [
    "import logging\n",
    "\n",
    "logging.getLogger().setLevel(logging.DEBUG)\n",
    "\n",
    "class Primes():\n",
    "    def __init__(self):\n",
    "        logging.debug(\"Primes.__init__\")\n",
    "        self.__primes = [2]\n",
    "        \n",
    "    def __getitem__(self, index):\n",
    "        return self.__primes[index]\n",
    "    \n",
    "    def _aggiungi_prossimo_primo(self):\n",
    "        #num = self.__primes[len]\n",
    "        #num\n",
    "        #logging.debug(self, len(self.__primes))\n",
    "        #self.__primes.append(num)\n",
    "        pass\n",
    "    \n",
    "    def __call__(self, index):\n",
    "        logging.debug(\"Primes.__call__\")\n",
    "        # Se esiste\n",
    "        if (index < len(self.__primes)):\n",
    "            return self.__primes[index]\n",
    "\n",
    "        self._aggiungi_prossimo_primo()\n",
    "        # TODO\n",
    "        return NotImplementedError"
   ]
  },
  {
   "cell_type": "code",
   "execution_count": 12,
   "metadata": {},
   "outputs": [
    {
     "name": "stderr",
     "output_type": "stream",
     "text": [
      "DEBUG:root:Primes.__init__\n",
      "DEBUG:root:CIAO\n",
      "DEBUG:root:Primes.__call__\n"
     ]
    },
    {
     "data": {
      "text/plain": [
       "NotImplementedError"
      ]
     },
     "execution_count": 12,
     "metadata": {},
     "output_type": "execute_result"
    }
   ],
   "source": [
    "p = Primes()\n",
    "logging.debug(\"CIAO\")\n",
    "p(42)"
   ]
  },
  {
   "cell_type": "code",
   "execution_count": 15,
   "metadata": {},
   "outputs": [
    {
     "data": {
      "text/plain": [
       "\u001b[1;31mInit signature:\u001b[0m \u001b[0mtuple\u001b[0m\u001b[1;33m(\u001b[0m\u001b[0mself\u001b[0m\u001b[1;33m,\u001b[0m \u001b[1;33m/\u001b[0m\u001b[1;33m,\u001b[0m \u001b[1;33m*\u001b[0m\u001b[0margs\u001b[0m\u001b[1;33m,\u001b[0m \u001b[1;33m**\u001b[0m\u001b[0mkwargs\u001b[0m\u001b[1;33m)\u001b[0m\u001b[1;33m\u001b[0m\u001b[0m\n",
       "\u001b[1;31mDocstring:\u001b[0m     \n",
       "tuple() -> empty tuple\n",
       "tuple(iterable) -> tuple initialized from iterable's items\n",
       "\n",
       "If the argument is a tuple, the return value is the same object.\n",
       "\u001b[1;31mType:\u001b[0m           type\n"
      ]
     },
     "metadata": {},
     "output_type": "display_data"
    }
   ],
   "source": [
    "list"
   ]
  },
  {
   "cell_type": "code",
   "execution_count": null,
   "metadata": {},
   "outputs": [],
   "source": []
  }
 ],
 "metadata": {
  "kernelspec": {
   "display_name": "Python 3",
   "language": "python",
   "name": "python3"
  },
  "language_info": {
   "codemirror_mode": {
    "name": "ipython",
    "version": 3
   },
   "file_extension": ".py",
   "mimetype": "text/x-python",
   "name": "python",
   "nbconvert_exporter": "python",
   "pygments_lexer": "ipython3",
   "version": "3.6.4"
  }
 },
 "nbformat": 4,
 "nbformat_minor": 2
}

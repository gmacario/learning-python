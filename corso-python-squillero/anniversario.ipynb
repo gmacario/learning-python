{
 "cells": [
  {
   "cell_type": "code",
   "execution_count": 1,
   "metadata": {},
   "outputs": [],
   "source": [
    "class Anniversario:\n",
    "    MESI = (('gennaio', 31), \n",
    "            ('febbraio', 28), \n",
    "            ('marzo', 31), \n",
    "            ('aprile', 30), \n",
    "            ('maggio', 30), \n",
    "            ('giugno', 30),\n",
    "            ('luglio', 31),\n",
    "            ('agosto', 31), \n",
    "            ('settembre', 30),\n",
    "            ('ottobre', 31),\n",
    "            ('novembre', 30),\n",
    "            ('dicembre', 31))\n",
    "    \n",
    "    def __init__(self, data=None):\n",
    "        if (data):\n",
    "            self.data = data\n",
    "        else:\n",
    "            self.__giorno = None\n",
    "            self.__mese = None\n",
    "            self.__anno = None\n",
    "            \n",
    "    @property\n",
    "    def data(self):\n",
    "        return \"{:02}-{}-{:04}\".format(\n",
    "            self.__giorno, \n",
    "            self.MESI[self.__mese-1][0],\n",
    "            self.__anno)\n",
    "    \n",
    "    @data.setter\n",
    "    def data(self, data):\n",
    "        if not self.controlla_data(data):\n",
    "            raise ValueError\n",
    "        giorno, mese, anno = data.split('-')\n",
    "        self.__giorno = int(giorno)\n",
    "        self.__mese = 1 + [m for m, g in Anniversario.MESI].index(mese.lower())\n",
    "        self.__anno = int(anno)\n",
    "        \n",
    "    def controlla_data(self, data):\n",
    "        try:\n",
    "            g, m, a = data.split('-')\n",
    "            g, m, a = int(g), m.lower(), int(a)\n",
    "        except:\n",
    "            return False\n",
    "        return True\n",
    "    \n",
    "    def __str__(self):\n",
    "        return self.data\n",
    "    \n",
    "    def __lt__(self, other):\n",
    "        return True # TODO"
   ]
  },
  {
   "cell_type": "code",
   "execution_count": 2,
   "metadata": {},
   "outputs": [
    {
     "data": {
      "text/plain": [
       "['23', 'ottobre', '1970']"
      ]
     },
     "execution_count": 2,
     "metadata": {},
     "output_type": "execute_result"
    }
   ],
   "source": [
    "\"23-ottobre-1970\".split('-')"
   ]
  },
  {
   "cell_type": "code",
   "execution_count": 3,
   "metadata": {},
   "outputs": [],
   "source": [
    "a = Anniversario(\"3-febbraio-1966\")"
   ]
  },
  {
   "cell_type": "code",
   "execution_count": 4,
   "metadata": {},
   "outputs": [
    {
     "data": {
      "text/plain": [
       "<__main__.Anniversario at 0x55abac8>"
      ]
     },
     "execution_count": 4,
     "metadata": {},
     "output_type": "execute_result"
    }
   ],
   "source": [
    "a"
   ]
  },
  {
   "cell_type": "code",
   "execution_count": 5,
   "metadata": {},
   "outputs": [
    {
     "data": {
      "text/plain": [
       "'03-febbraio-1966'"
      ]
     },
     "execution_count": 5,
     "metadata": {},
     "output_type": "execute_result"
    }
   ],
   "source": [
    "a.data"
   ]
  },
  {
   "cell_type": "code",
   "execution_count": 6,
   "metadata": {},
   "outputs": [
    {
     "data": {
      "text/plain": [
       "<__main__.Anniversario at 0x55abac8>"
      ]
     },
     "execution_count": 6,
     "metadata": {},
     "output_type": "execute_result"
    }
   ],
   "source": [
    "a"
   ]
  },
  {
   "cell_type": "code",
   "execution_count": 7,
   "metadata": {},
   "outputs": [
    {
     "name": "stdout",
     "output_type": "stream",
     "text": [
      "03-febbraio-1966\n"
     ]
    }
   ],
   "source": [
    "print(a)"
   ]
  },
  {
   "cell_type": "code",
   "execution_count": 8,
   "metadata": {},
   "outputs": [],
   "source": [
    "import logging"
   ]
  },
  {
   "cell_type": "code",
   "execution_count": 9,
   "metadata": {},
   "outputs": [
    {
     "data": {
      "text/plain": [
       "\u001b[1;31mType:\u001b[0m        module\n",
       "\u001b[1;31mString form:\u001b[0m <module 'logging' from 'C:\\\\ProgramData\\\\Anaconda3\\\\lib\\\\logging\\\\__init__.py'>\n",
       "\u001b[1;31mFile:\u001b[0m        c:\\programdata\\anaconda3\\lib\\logging\\__init__.py\n",
       "\u001b[1;31mDocstring:\u001b[0m  \n",
       "Logging package for Python. Based on PEP 282 and comments thereto in\n",
       "comp.lang.python.\n",
       "\n",
       "Copyright (C) 2001-2016 Vinay Sajip. All Rights Reserved.\n",
       "\n",
       "To use, simply 'import logging' and log away!\n"
      ]
     },
     "metadata": {},
     "output_type": "display_data"
    }
   ],
   "source": [
    "logging?"
   ]
  },
  {
   "cell_type": "code",
   "execution_count": 10,
   "metadata": {},
   "outputs": [
    {
     "data": {
      "text/plain": [
       "\u001b[1;31mSignature:\u001b[0m \u001b[0mlogging\u001b[0m\u001b[1;33m.\u001b[0m\u001b[0mlog\u001b[0m\u001b[1;33m(\u001b[0m\u001b[0mlevel\u001b[0m\u001b[1;33m,\u001b[0m \u001b[0mmsg\u001b[0m\u001b[1;33m,\u001b[0m \u001b[1;33m*\u001b[0m\u001b[0margs\u001b[0m\u001b[1;33m,\u001b[0m \u001b[1;33m**\u001b[0m\u001b[0mkwargs\u001b[0m\u001b[1;33m)\u001b[0m\u001b[1;33m\u001b[0m\u001b[0m\n",
       "\u001b[1;31mDocstring:\u001b[0m\n",
       "Log 'msg % args' with the integer severity 'level' on the root logger. If\n",
       "the logger has no handlers, call basicConfig() to add a console handler\n",
       "with a pre-defined format.\n",
       "\u001b[1;31mFile:\u001b[0m      c:\\programdata\\anaconda3\\lib\\logging\\__init__.py\n",
       "\u001b[1;31mType:\u001b[0m      function\n"
      ]
     },
     "metadata": {},
     "output_type": "display_data"
    }
   ],
   "source": [
    "logging.log?"
   ]
  },
  {
   "cell_type": "code",
   "execution_count": null,
   "metadata": {},
   "outputs": [],
   "source": []
  }
 ],
 "metadata": {
  "kernelspec": {
   "display_name": "Python 3",
   "language": "python",
   "name": "python3"
  },
  "language_info": {
   "codemirror_mode": {
    "name": "ipython",
    "version": 3
   },
   "file_extension": ".py",
   "mimetype": "text/x-python",
   "name": "python",
   "nbconvert_exporter": "python",
   "pygments_lexer": "ipython3",
   "version": "3.6.4"
  }
 },
 "nbformat": 4,
 "nbformat_minor": 2
}

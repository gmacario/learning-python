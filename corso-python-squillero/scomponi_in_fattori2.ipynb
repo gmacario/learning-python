{
 "cells": [
  {
   "cell_type": "code",
   "execution_count": 1,
   "metadata": {},
   "outputs": [],
   "source": [
    "def scomponi_in_fattori(numero):\n",
    "    \"\"\"Restituisce una tupla con la scomposizione in fattori del numero\n",
    "    8 -> (2,2,2)\n",
    "    \"\"\"\n",
    "    fattori = ()\n",
    "    n = 2\n",
    "    while (numero > 1):\n",
    "        while numero % n == 0:\n",
    "            numero /= n\n",
    "            fattori += (n,)\n",
    "        n += 1\n",
    "    return fattori\n",
    "\n",
    "def scomposizione(numeri, scomposizioni_note=None):\n",
    "    \"\"\"Restituisce un dizionario con le scomposizioni\n",
    "    (quelle note in partenza più quelle nuove\n",
    "    dei numeri della sequenza)\n",
    "    \n",
    "    # 8 -> (2,2,2)\n",
    "    \"\"\"\n",
    "    \n",
    "    if not scomposizioni_note:\n",
    "        scomposizioni_note = dict()\n",
    "\n",
    "    for k in range(len(numeri)):\n",
    "        num = numeri[k]\n",
    "        if num in scomposizioni_note.keys():\n",
    "            pass\n",
    "        else:\n",
    "            print(\"Calcola scomposizione di {}\".format((num)))\n",
    "            fattori = scomponi_in_fattori(num)\n",
    "            scomposizioni_note[num] = fattori\n",
    "    return scomposizioni_note\n",
    "\n",
    "def scomposizione2(numeri, scomposizioni_note=None):\n",
    "    \"\"\"(MUCH BETTER)\n",
    "    Restituisce un dizionario con le scomposizioni\n",
    "    (quelle note in partenza più quelle nuove\n",
    "    dei numeri della sequenza)\n",
    "    \n",
    "    # 8 -> (2,2,2)\n",
    "    \"\"\"\n",
    "    \n",
    "    sn = dict()\n",
    "    if scomposizioni_note:\n",
    "        for k, v in scomposizioni_note.items():\n",
    "            sn[k] = v\n",
    "\n",
    "    for num in (_ for _ in numeri if _ not in sn):\n",
    "        print(\"Calcola scomposizione di {}\".format((num)))\n",
    "        sn[num] = scomponi_in_fattori(num)\n",
    "    return sn"
   ]
  },
  {
   "cell_type": "code",
   "execution_count": 2,
   "metadata": {},
   "outputs": [
    {
     "name": "stdout",
     "output_type": "stream",
     "text": [
      "Calcola scomposizione di 8\n",
      "{25: (5, 5), 8: (2, 2, 2)}\n"
     ]
    }
   ],
   "source": [
    "note = scomposizione((8, 25), {25: (5, 5)})\n",
    "print(note)\n",
    "# {8: (2,2,2), 25: (5,5)}"
   ]
  },
  {
   "cell_type": "code",
   "execution_count": 3,
   "metadata": {},
   "outputs": [
    {
     "name": "stdout",
     "output_type": "stream",
     "text": [
      "{25: (5, 5), 8: (2, 2, 2)}\n"
     ]
    }
   ],
   "source": [
    "note = scomposizione((8, 25), note)\n",
    "print(note)"
   ]
  },
  {
   "cell_type": "code",
   "execution_count": 6,
   "metadata": {},
   "outputs": [
    {
     "name": "stdout",
     "output_type": "stream",
     "text": [
      "Calcola scomposizione di 8\n",
      "{25: (5, 5), 8: (2, 2, 2)}\n"
     ]
    }
   ],
   "source": [
    "note = scomposizione2((8, 25), {25: (5, 5)})\n",
    "print(note)"
   ]
  },
  {
   "cell_type": "code",
   "execution_count": 7,
   "metadata": {},
   "outputs": [
    {
     "name": "stdout",
     "output_type": "stream",
     "text": [
      "{25: (5, 5), 8: (2, 2, 2)}\n"
     ]
    }
   ],
   "source": [
    "note = scomposizione2((8, 25), note)\n",
    "print(note)"
   ]
  },
  {
   "cell_type": "code",
   "execution_count": null,
   "metadata": {},
   "outputs": [],
   "source": []
  }
 ],
 "metadata": {
  "kernelspec": {
   "display_name": "Python 3",
   "language": "python",
   "name": "python3"
  },
  "language_info": {
   "codemirror_mode": {
    "name": "ipython",
    "version": 3
   },
   "file_extension": ".py",
   "mimetype": "text/x-python",
   "name": "python",
   "nbconvert_exporter": "python",
   "pygments_lexer": "ipython3",
   "version": "3.6.4"
  }
 },
 "nbformat": 4,
 "nbformat_minor": 2
}

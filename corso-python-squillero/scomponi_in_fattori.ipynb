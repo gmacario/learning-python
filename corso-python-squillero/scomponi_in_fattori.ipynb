{
 "cells": [
  {
   "cell_type": "code",
   "execution_count": 1,
   "metadata": {},
   "outputs": [],
   "source": [
    "def scomponi_in_fattori(numero):\n",
    "    \"\"\"Restituisce una tupla con la scomposizione in fattori del numero\n",
    "    8 -> (2,2,2)\n",
    "    \"\"\"\n",
    "    fattori = ()\n",
    "    n = 2\n",
    "    while (numero > 1):\n",
    "        while numero % n == 0:\n",
    "            numero /= n\n",
    "            fattori += (n,)\n",
    "        n += 1\n",
    "    return fattori\n",
    "    \n",
    "def factors(lista_numeri):\n",
    "    \"\"\"Restituisce una tupla di tuple con le scomposizioni in fattori\n",
    "    \n",
    "    (8, 7) -> ((2,2,2), (7,))\n",
    "    \"\"\"\n",
    "    fat = []\n",
    "    for n in lista_numeri:\n",
    "        fat.append(scomponi_in_fattori(n))\n",
    "    return tuple(fat)"
   ]
  },
  {
   "cell_type": "code",
   "execution_count": 2,
   "metadata": {},
   "outputs": [
    {
     "data": {
      "text/plain": [
       "(7,)"
      ]
     },
     "execution_count": 2,
     "metadata": {},
     "output_type": "execute_result"
    }
   ],
   "source": [
    "scomponi_in_fattori(7)"
   ]
  },
  {
   "cell_type": "code",
   "execution_count": 3,
   "metadata": {},
   "outputs": [
    {
     "data": {
      "text/plain": [
       "((2, 2, 2), (7,))"
      ]
     },
     "execution_count": 3,
     "metadata": {},
     "output_type": "execute_result"
    }
   ],
   "source": [
    "factors((8,7))"
   ]
  }
 ],
 "metadata": {
  "kernelspec": {
   "display_name": "Python 3",
   "language": "python",
   "name": "python3"
  },
  "language_info": {
   "codemirror_mode": {
    "name": "ipython",
    "version": 3
   },
   "file_extension": ".py",
   "mimetype": "text/x-python",
   "name": "python",
   "nbconvert_exporter": "python",
   "pygments_lexer": "ipython3",
   "version": "3.6.4"
  }
 },
 "nbformat": 4,
 "nbformat_minor": 2
}

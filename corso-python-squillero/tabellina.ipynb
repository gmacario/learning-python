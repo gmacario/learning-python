{
 "cells": [
  {
   "cell_type": "code",
   "execution_count": 1,
   "metadata": {},
   "outputs": [],
   "source": [
    "# Costruire il dizionario \"tabellina\"\n",
    "# indice(x, y) con x e y in (0,10) e valore x*y"
   ]
  },
  {
   "cell_type": "code",
   "execution_count": 2,
   "metadata": {},
   "outputs": [],
   "source": [
    "tabellina = dict()"
   ]
  },
  {
   "cell_type": "code",
   "execution_count": 3,
   "metadata": {},
   "outputs": [],
   "source": [
    "for x in range(1, 10):\n",
    "    for y in range(1, 10):\n",
    "        tabellina[(x, y)] = x * y"
   ]
  },
  {
   "cell_type": "code",
   "execution_count": 4,
   "metadata": {},
   "outputs": [
    {
     "data": {
      "text/plain": [
       "{(1, 1): 1,\n",
       " (1, 2): 2,\n",
       " (1, 3): 3,\n",
       " (1, 4): 4,\n",
       " (1, 5): 5,\n",
       " (1, 6): 6,\n",
       " (1, 7): 7,\n",
       " (1, 8): 8,\n",
       " (1, 9): 9,\n",
       " (2, 1): 2,\n",
       " (2, 2): 4,\n",
       " (2, 3): 6,\n",
       " (2, 4): 8,\n",
       " (2, 5): 10,\n",
       " (2, 6): 12,\n",
       " (2, 7): 14,\n",
       " (2, 8): 16,\n",
       " (2, 9): 18,\n",
       " (3, 1): 3,\n",
       " (3, 2): 6,\n",
       " (3, 3): 9,\n",
       " (3, 4): 12,\n",
       " (3, 5): 15,\n",
       " (3, 6): 18,\n",
       " (3, 7): 21,\n",
       " (3, 8): 24,\n",
       " (3, 9): 27,\n",
       " (4, 1): 4,\n",
       " (4, 2): 8,\n",
       " (4, 3): 12,\n",
       " (4, 4): 16,\n",
       " (4, 5): 20,\n",
       " (4, 6): 24,\n",
       " (4, 7): 28,\n",
       " (4, 8): 32,\n",
       " (4, 9): 36,\n",
       " (5, 1): 5,\n",
       " (5, 2): 10,\n",
       " (5, 3): 15,\n",
       " (5, 4): 20,\n",
       " (5, 5): 25,\n",
       " (5, 6): 30,\n",
       " (5, 7): 35,\n",
       " (5, 8): 40,\n",
       " (5, 9): 45,\n",
       " (6, 1): 6,\n",
       " (6, 2): 12,\n",
       " (6, 3): 18,\n",
       " (6, 4): 24,\n",
       " (6, 5): 30,\n",
       " (6, 6): 36,\n",
       " (6, 7): 42,\n",
       " (6, 8): 48,\n",
       " (6, 9): 54,\n",
       " (7, 1): 7,\n",
       " (7, 2): 14,\n",
       " (7, 3): 21,\n",
       " (7, 4): 28,\n",
       " (7, 5): 35,\n",
       " (7, 6): 42,\n",
       " (7, 7): 49,\n",
       " (7, 8): 56,\n",
       " (7, 9): 63,\n",
       " (8, 1): 8,\n",
       " (8, 2): 16,\n",
       " (8, 3): 24,\n",
       " (8, 4): 32,\n",
       " (8, 5): 40,\n",
       " (8, 6): 48,\n",
       " (8, 7): 56,\n",
       " (8, 8): 64,\n",
       " (8, 9): 72,\n",
       " (9, 1): 9,\n",
       " (9, 2): 18,\n",
       " (9, 3): 27,\n",
       " (9, 4): 36,\n",
       " (9, 5): 45,\n",
       " (9, 6): 54,\n",
       " (9, 7): 63,\n",
       " (9, 8): 72,\n",
       " (9, 9): 81}"
      ]
     },
     "execution_count": 4,
     "metadata": {},
     "output_type": "execute_result"
    }
   ],
   "source": [
    "tabellina"
   ]
  },
  {
   "cell_type": "code",
   "execution_count": 5,
   "metadata": {},
   "outputs": [],
   "source": [
    "tabellina_2 = {(x, y): x*y for x in range(1,11) for y in range(1,11)}"
   ]
  },
  {
   "cell_type": "code",
   "execution_count": 6,
   "metadata": {},
   "outputs": [
    {
     "data": {
      "text/plain": [
       "{(1, 1): 1,\n",
       " (1, 2): 2,\n",
       " (1, 3): 3,\n",
       " (1, 4): 4,\n",
       " (1, 5): 5,\n",
       " (1, 6): 6,\n",
       " (1, 7): 7,\n",
       " (1, 8): 8,\n",
       " (1, 9): 9,\n",
       " (1, 10): 10,\n",
       " (2, 1): 2,\n",
       " (2, 2): 4,\n",
       " (2, 3): 6,\n",
       " (2, 4): 8,\n",
       " (2, 5): 10,\n",
       " (2, 6): 12,\n",
       " (2, 7): 14,\n",
       " (2, 8): 16,\n",
       " (2, 9): 18,\n",
       " (2, 10): 20,\n",
       " (3, 1): 3,\n",
       " (3, 2): 6,\n",
       " (3, 3): 9,\n",
       " (3, 4): 12,\n",
       " (3, 5): 15,\n",
       " (3, 6): 18,\n",
       " (3, 7): 21,\n",
       " (3, 8): 24,\n",
       " (3, 9): 27,\n",
       " (3, 10): 30,\n",
       " (4, 1): 4,\n",
       " (4, 2): 8,\n",
       " (4, 3): 12,\n",
       " (4, 4): 16,\n",
       " (4, 5): 20,\n",
       " (4, 6): 24,\n",
       " (4, 7): 28,\n",
       " (4, 8): 32,\n",
       " (4, 9): 36,\n",
       " (4, 10): 40,\n",
       " (5, 1): 5,\n",
       " (5, 2): 10,\n",
       " (5, 3): 15,\n",
       " (5, 4): 20,\n",
       " (5, 5): 25,\n",
       " (5, 6): 30,\n",
       " (5, 7): 35,\n",
       " (5, 8): 40,\n",
       " (5, 9): 45,\n",
       " (5, 10): 50,\n",
       " (6, 1): 6,\n",
       " (6, 2): 12,\n",
       " (6, 3): 18,\n",
       " (6, 4): 24,\n",
       " (6, 5): 30,\n",
       " (6, 6): 36,\n",
       " (6, 7): 42,\n",
       " (6, 8): 48,\n",
       " (6, 9): 54,\n",
       " (6, 10): 60,\n",
       " (7, 1): 7,\n",
       " (7, 2): 14,\n",
       " (7, 3): 21,\n",
       " (7, 4): 28,\n",
       " (7, 5): 35,\n",
       " (7, 6): 42,\n",
       " (7, 7): 49,\n",
       " (7, 8): 56,\n",
       " (7, 9): 63,\n",
       " (7, 10): 70,\n",
       " (8, 1): 8,\n",
       " (8, 2): 16,\n",
       " (8, 3): 24,\n",
       " (8, 4): 32,\n",
       " (8, 5): 40,\n",
       " (8, 6): 48,\n",
       " (8, 7): 56,\n",
       " (8, 8): 64,\n",
       " (8, 9): 72,\n",
       " (8, 10): 80,\n",
       " (9, 1): 9,\n",
       " (9, 2): 18,\n",
       " (9, 3): 27,\n",
       " (9, 4): 36,\n",
       " (9, 5): 45,\n",
       " (9, 6): 54,\n",
       " (9, 7): 63,\n",
       " (9, 8): 72,\n",
       " (9, 9): 81,\n",
       " (9, 10): 90,\n",
       " (10, 1): 10,\n",
       " (10, 2): 20,\n",
       " (10, 3): 30,\n",
       " (10, 4): 40,\n",
       " (10, 5): 50,\n",
       " (10, 6): 60,\n",
       " (10, 7): 70,\n",
       " (10, 8): 80,\n",
       " (10, 9): 90,\n",
       " (10, 10): 100}"
      ]
     },
     "execution_count": 6,
     "metadata": {},
     "output_type": "execute_result"
    }
   ],
   "source": [
    "tabellina_2"
   ]
  },
  {
   "cell_type": "code",
   "execution_count": 8,
   "metadata": {},
   "outputs": [
    {
     "data": {
      "text/plain": [
       "{'bar': 2, 'baz': 32, 'foo': 13, 'gargle': 4, 'whirl': 32}"
      ]
     },
     "execution_count": 8,
     "metadata": {},
     "output_type": "execute_result"
    }
   ],
   "source": [
    "td = dict()\n",
    "td['baz'] = 32\n",
    "td['gargle'] = 4\n",
    "td['foo'] = 13\n",
    "td['bar'] = 2\n",
    "td['whirl'] = 32\n",
    "\n",
    "td"
   ]
  },
  {
   "cell_type": "code",
   "execution_count": 9,
   "metadata": {},
   "outputs": [
    {
     "data": {
      "text/plain": [
       "[2, 4, 13, 32, 32]"
      ]
     },
     "execution_count": 9,
     "metadata": {},
     "output_type": "execute_result"
    }
   ],
   "source": [
    "sorted(td.values())"
   ]
  },
  {
   "cell_type": "code",
   "execution_count": 12,
   "metadata": {},
   "outputs": [
    {
     "name": "stdout",
     "output_type": "stream",
     "text": [
      "bar\n",
      "baz\n",
      "foo\n",
      "gargle\n",
      "whirl\n"
     ]
    }
   ],
   "source": [
    "for k in sorted(td.keys()):\n",
    "  print(k)"
   ]
  },
  {
   "cell_type": "code",
   "execution_count": 13,
   "metadata": {},
   "outputs": [
    {
     "data": {
      "text/plain": [
       "['bar', 'baz', 'foo', 'gargle', 'whirl']"
      ]
     },
     "execution_count": 13,
     "metadata": {},
     "output_type": "execute_result"
    }
   ],
   "source": [
    "[k for k in sorted(td.keys())]"
   ]
  },
  {
   "cell_type": "code",
   "execution_count": 14,
   "metadata": {},
   "outputs": [],
   "source": [
    "mio_set = {10, 10\n",
    "    }"
   ]
  },
  {
   "cell_type": "code",
   "execution_count": null,
   "metadata": {},
   "outputs": [],
   "source": []
  }
 ],
 "metadata": {
  "kernelspec": {
   "display_name": "Python 3",
   "language": "python",
   "name": "python3"
  },
  "language_info": {
   "codemirror_mode": {
    "name": "ipython",
    "version": 3
   },
   "file_extension": ".py",
   "mimetype": "text/x-python",
   "name": "python",
   "nbconvert_exporter": "python",
   "pygments_lexer": "ipython3",
   "version": "3.6.4"
  }
 },
 "nbformat": 4,
 "nbformat_minor": 2
}

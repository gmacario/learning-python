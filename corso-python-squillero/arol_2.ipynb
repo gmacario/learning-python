{
 "cells": [
  {
   "cell_type": "code",
   "execution_count": 2,
   "metadata": {},
   "outputs": [
    {
     "data": {
      "text/plain": [
       "[('the', 1171),\n",
       " ('of', 895),\n",
       " ('and', 626),\n",
       " ('to', 609),\n",
       " ('in', 408),\n",
       " ('I', 397),\n",
       " ('a', 374),\n",
       " ('is', 370),\n",
       " ('that', 368),\n",
       " ('for', 201)]"
      ]
     },
     "execution_count": 2,
     "metadata": {},
     "output_type": "execute_result"
    }
   ],
   "source": [
    "DE_PROFUNDIS = \"http://www.gutenberg.org/cache/epub/921/pg921.txt\"\n",
    "\n",
    "import urllib.request\n",
    "\n",
    "def wwwgen(url):\n",
    "  req = urllib.request.urlopen(url)\n",
    "  while True:\n",
    "      line = req.readline()\n",
    "      if not line:\n",
    "          break\n",
    "      strings = str(line, 'utf8')\n",
    "      for s in strings.split():\n",
    "        yield s\n",
    "\n",
    "# Get first\n",
    "# x = wwwgen(DE_PROFUNDIS)\n",
    "\n",
    "# Get all\n",
    "# [w for w in wwwgen(DE_PROFUNDIS)]\n",
    "\n",
    "from collections import Counter\n",
    "\n",
    "counter = Counter(wwwgen(DE_PROFUNDIS))\n",
    "counter.most_common(10)"
   ]
  },
  {
   "cell_type": "code",
   "execution_count": null,
   "metadata": {},
   "outputs": [],
   "source": []
  }
 ],
 "metadata": {
  "kernelspec": {
   "display_name": "Python 3",
   "language": "python",
   "name": "python3"
  },
  "language_info": {
   "codemirror_mode": {
    "name": "ipython",
    "version": 3
   },
   "file_extension": ".py",
   "mimetype": "text/x-python",
   "name": "python",
   "nbconvert_exporter": "python",
   "pygments_lexer": "ipython3",
   "version": "3.6.4"
  }
 },
 "nbformat": 4,
 "nbformat_minor": 2
}

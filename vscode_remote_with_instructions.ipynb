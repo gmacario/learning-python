{
  "nbformat": 4,
  "nbformat_minor": 0,
  "metadata": {
    "colab": {
      "name": "vscode-remote-with-instructions.ipynb",
      "provenance": [],
      "authorship_tag": "ABX9TyPdnwNyunXc3rOKnueHkurN",
      "include_colab_link": true
    },
    "kernelspec": {
      "name": "python3",
      "display_name": "Python 3"
    }
  },
  "cells": [
    {
      "cell_type": "markdown",
      "metadata": {
        "id": "view-in-github",
        "colab_type": "text"
      },
      "source": [
        "<a href=\"https://colab.research.google.com/github/gmacario/learning-python/blob/master/vscode_remote_with_instructions.ipynb\" target=\"_parent\"><img src=\"https://colab.research.google.com/assets/colab-badge.svg\" alt=\"Open In Colab\"/></a>"
      ]
    },
    {
      "cell_type": "code",
      "metadata": {
        "colab": {
          "base_uri": "https://localhost:8080/"
        },
        "id": "3Rnx9IqA9Xaj",
        "outputId": "e9e034c9-9ed0-4011-cee6-ed25b4d15f01"
      },
      "source": [
        "!pip install colabcode\n",
        "from colabcode import ColabCode\n",
        "ColabCode(port='10000', password='12345', mount_drive=True)"
      ],
      "execution_count": null,
      "outputs": [
        {
          "output_type": "stream",
          "text": [
            "Requirement already satisfied: colabcode in /usr/local/lib/python3.6/dist-packages (0.1.0)\n",
            "Requirement already satisfied: pyngrok>=5.0.0 in /usr/local/lib/python3.6/dist-packages (from colabcode) (5.0.0)\n",
            "Requirement already satisfied: PyYAML in /usr/local/lib/python3.6/dist-packages (from pyngrok>=5.0.0->colabcode) (3.13)\n",
            "Code Server can be accessed on: NgrokTunnel: \"http://bd960e54c107.ngrok.io\" -> \"http://localhost:10000\"\n",
            "Drive already mounted at /content/drive; to attempt to forcibly remount, call drive.mount(\"/content/drive\", force_remount=True).\n",
            "[2020-12-06T13:49:15.615Z] info  code-server 3.7.4 11f53784c58f68e7f4c5b3b8dae9407caa41725b\n",
            "[2020-12-06T13:49:15.616Z] info  Using user-data-dir ~/.local/share/code-server\n",
            "[2020-12-06T13:49:15.627Z] info  Using config file ~/.config/code-server/config.yaml\n",
            "[2020-12-06T13:49:15.628Z] info  HTTP server listening on http://127.0.0.1:10000 \n",
            "[2020-12-06T13:49:15.628Z] info    - Authentication is enabled\n",
            "[2020-12-06T13:49:15.628Z] info      - Using password from $PASSWORD\n",
            "[2020-12-06T13:49:15.628Z] info    - Not serving HTTPS\n",
            "error vscode Handshake timed out \u001b[38;2;140;140;140m{\"token\":\"94e755a9-a75f-4f5b-96b5-6404d9b93905\"}\u001b[0m\n"
          ],
          "name": "stdout"
        }
      ]
    },
    {
      "cell_type": "markdown",
      "metadata": {
        "id": "D-eiSHk99b5c"
      },
      "source": [
        "# Run VSCode Remote inside Google Colab\n",
        "\n",
        "Source: Comment by IMRAN YOUNUS on <https://youtu.be/UFxVvrrufsA>\n",
        "\n",
        "I used to do this\n",
        "* Step-1: Open Google Colab on browser(https://colab.research.google.com)\n",
        "* Step-2: open a notebook and run the below code(if you want to use free GPU then before running the below code go to notebook setting and set it to GPU)\n",
        "```\n",
        "!pip install colabcode\n",
        "from colabcode import ColabCode\n",
        "ColabCode (port='10000', password='12345', mount_drive=True)\n",
        "```\n",
        "* Step-3: open the Google authentication link and copy the auth code back to previous tab) \n",
        "You'll get another link ending with `.ngrok.io` click that and welcome to VS code on phone\n",
        "\n",
        "### References\n",
        "\n",
        "* <https://amitness.com/vscode-on-colab/>\n",
        "* <https://youtu.be/7kTbM3D02jU>"
      ]
    },
    {
      "cell_type": "markdown",
      "metadata": {
        "id": "1Ln3-8q_1_6s"
      },
      "source": [
        "To access VScode from a browser, open URL <https://886b4891347b.ngrok.io>\n",
        "\n",
        "NOTE: You should replace the host on ngrok.io with the one showed above, just  keep the https protocol"
      ]
    }
  ]
}